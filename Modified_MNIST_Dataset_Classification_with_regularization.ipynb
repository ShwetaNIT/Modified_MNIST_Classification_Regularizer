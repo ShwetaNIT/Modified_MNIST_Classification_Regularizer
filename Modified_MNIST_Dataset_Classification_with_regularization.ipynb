{
  "nbformat": 4,
  "nbformat_minor": 0,
  "metadata": {
    "colab": {
      "provenance": []
    },
    "kernelspec": {
      "name": "python3",
      "display_name": "Python 3"
    },
    "language_info": {
      "name": "python"
    }
  },
  "cells": [
    {
      "cell_type": "markdown",
      "source": [
        "**1.What regularization techniques were mentioned in that Jupyter notebook?**"
      ],
      "metadata": {
        "id": "vFkmlSwIMsOt"
      }
    },
    {
      "cell_type": "markdown",
      "source": [
        "Ans: There were 2 broad regularization techniques mentioned in the Jupyter notebook. One was Weight regularizers and other was adding a Dropout layer in the Neural network.\n",
        "There are further 2 kinds of weight regularizers that were discussed:\n",
        "1. **L1 regularizer**: The cost added is proportional to the absolute value of weight coefficients (the L1 norm of weights).\n",
        "\n",
        "2. **L2 regularizer**: The cost added is proportional to the square of the value of weight coefficients (the L2 norm of weights).\n",
        "\n",
        "We can also apply L1 and L2 regularizers simultaneously on a layer, in which case we add both these above mentioned costs.\n",
        "\n",
        "On the other hand, a **Dropout layer** is used to implement dropout in neural network which prevents \"collusion\" by a set of nodes. It further makes the training process more effective as each weight in the layer now has to train harder, as some of the weights of their neighbors are not contributing in the neural network.\n"
      ],
      "metadata": {
        "id": "jzTCeYtCMyti"
      }
    },
    {
      "cell_type": "markdown",
      "source": [
        "**2) The MNIST dataset has 60,000 training images and 10,000 test images. Each image is a 28x28 array, where each array element is between 0 and 255. The images have 10 labels: 0, 1, 2, 3, 4, 5, 6, 7, 8, 9.**\n",
        "\n",
        " We now create a new dataset of about 30,000 training images, about 5,000 test images and 5 labels (which are 0, 1, 2, 3, 4) as follows. First, randomly pair up the training images of label 0 with the training images of label 1, to get about 6,000 such pairs. (The actual number may be a little less than 6,000, because the number of images for some label may be less than -- although close to -- 6,000. In this case, just get as many pairs as you can.) Then, for each pair (A,B) where A is an image of label 0 and B is an image of label 1, we create a new image of size 28x28, where each element's value is the \"average\" of the two corresponding pixel values in A and B. (So the new image is a \"mixture\" of the two original images.) This way we create about 6,000 new \"mixture\" images for training. In a similar way, we create about 1,000 new \"mixture\" images for testing. We give all these about 6,000+1,000=7,000 new \"mixture\" images the new label 0. Then, in the same way, we create about 6,000 new training images and about 1,000 new test images by mixing the original images of label \"2\" and \"3\", and give them the new label 1; create about 6,000 new training images and about 1,000 new test images by mixing the original images of label \"4\" and \"5\", and give them the new label 2; create about 6,000 new training images and about 1,000 new test images by mixing the original images of label \"6\" and \"7\", and give them the new label 3; create about 6,000 new training images and about 1,000 new test images by mixing the original images of label \"8\" and \"9\", and give them the new label 4.    \n",
        "\n",
        "**Your task: submit your code that creates the above new dataset; then for each of the 5 new labels, randomly select 2 images of that label from your new dataset, and display them in your submitted Jupyter notebook. (5 points)**\n",
        "\n"
      ],
      "metadata": {
        "id": "ariIenz-3KDw"
      }
    },
    {
      "cell_type": "code",
      "source": [
        "from tensorflow.keras.datasets import mnist\n",
        "(train_images, train_labels), (test_images, test_labels) = mnist.load_data()\n",
        "\n",
        "import random\n",
        "import numpy as np"
      ],
      "metadata": {
        "id": "CQKLorhtT3kj",
        "colab": {
          "base_uri": "https://localhost:8080/"
        },
        "outputId": "d32b87f8-4d1b-4f15-c197-edaf920b02fd"
      },
      "execution_count": null,
      "outputs": [
        {
          "output_type": "stream",
          "name": "stdout",
          "text": [
            "Downloading data from https://storage.googleapis.com/tensorflow/tf-keras-datasets/mnist.npz\n",
            "11490434/11490434 [==============================] - 0s 0us/step\n"
          ]
        }
      ]
    },
    {
      "cell_type": "code",
      "source": [
        "train_images = train_images.reshape((60000, 28 * 28))\n",
        "test_images = test_images.reshape((10000, 28 * 28))"
      ],
      "metadata": {
        "id": "-jJyL9gOdgJz"
      },
      "execution_count": null,
      "outputs": []
    },
    {
      "cell_type": "code",
      "source": [
        "train_images[0]"
      ],
      "metadata": {
        "id": "PoXdad7aFbGu",
        "outputId": "4bccce8b-8f9f-478f-e195-d84bf5db351c",
        "colab": {
          "base_uri": "https://localhost:8080/"
        }
      },
      "execution_count": null,
      "outputs": [
        {
          "output_type": "execute_result",
          "data": {
            "text/plain": [
              "array([  0,   0,   0,   0,   0,   0,   0,   0,   0,   0,   0,   0,   0,\n",
              "         0,   0,   0,   0,   0,   0,   0,   0,   0,   0,   0,   0,   0,\n",
              "         0,   0,   0,   0,   0,   0,   0,   0,   0,   0,   0,   0,   0,\n",
              "         0,   0,   0,   0,   0,   0,   0,   0,   0,   0,   0,   0,   0,\n",
              "         0,   0,   0,   0,   0,   0,   0,   0,   0,   0,   0,   0,   0,\n",
              "         0,   0,   0,   0,   0,   0,   0,   0,   0,   0,   0,   0,   0,\n",
              "         0,   0,   0,   0,   0,   0,   0,   0,   0,   0,   0,   0,   0,\n",
              "         0,   0,   0,   0,   0,   0,   0,   0,   0,   0,   0,   0,   0,\n",
              "         0,   0,   0,   0,   0,   0,   0,   0,   0,   0,   0,   0,   0,\n",
              "         0,   0,   0,   0,   0,   0,   0,   0,   0,   0,   0,   0,   0,\n",
              "         0,   0,   0,   0,   0,   0,   0,   0,   0,   0,   0,   0,   0,\n",
              "         0,   0,   0,   0,   0,   0,   0,   0,   0,   3,  18,  18,  18,\n",
              "       126, 136, 175,  26, 166, 255, 247, 127,   0,   0,   0,   0,   0,\n",
              "         0,   0,   0,   0,   0,   0,   0,  30,  36,  94, 154, 170, 253,\n",
              "       253, 253, 253, 253, 225, 172, 253, 242, 195,  64,   0,   0,   0,\n",
              "         0,   0,   0,   0,   0,   0,   0,   0,  49, 238, 253, 253, 253,\n",
              "       253, 253, 253, 253, 253, 251,  93,  82,  82,  56,  39,   0,   0,\n",
              "         0,   0,   0,   0,   0,   0,   0,   0,   0,   0,  18, 219, 253,\n",
              "       253, 253, 253, 253, 198, 182, 247, 241,   0,   0,   0,   0,   0,\n",
              "         0,   0,   0,   0,   0,   0,   0,   0,   0,   0,   0,   0,   0,\n",
              "        80, 156, 107, 253, 253, 205,  11,   0,  43, 154,   0,   0,   0,\n",
              "         0,   0,   0,   0,   0,   0,   0,   0,   0,   0,   0,   0,   0,\n",
              "         0,   0,   0,  14,   1, 154, 253,  90,   0,   0,   0,   0,   0,\n",
              "         0,   0,   0,   0,   0,   0,   0,   0,   0,   0,   0,   0,   0,\n",
              "         0,   0,   0,   0,   0,   0,   0, 139, 253, 190,   2,   0,   0,\n",
              "         0,   0,   0,   0,   0,   0,   0,   0,   0,   0,   0,   0,   0,\n",
              "         0,   0,   0,   0,   0,   0,   0,   0,   0,  11, 190, 253,  70,\n",
              "         0,   0,   0,   0,   0,   0,   0,   0,   0,   0,   0,   0,   0,\n",
              "         0,   0,   0,   0,   0,   0,   0,   0,   0,   0,   0,   0,  35,\n",
              "       241, 225, 160, 108,   1,   0,   0,   0,   0,   0,   0,   0,   0,\n",
              "         0,   0,   0,   0,   0,   0,   0,   0,   0,   0,   0,   0,   0,\n",
              "         0,   0,  81, 240, 253, 253, 119,  25,   0,   0,   0,   0,   0,\n",
              "         0,   0,   0,   0,   0,   0,   0,   0,   0,   0,   0,   0,   0,\n",
              "         0,   0,   0,   0,   0,  45, 186, 253, 253, 150,  27,   0,   0,\n",
              "         0,   0,   0,   0,   0,   0,   0,   0,   0,   0,   0,   0,   0,\n",
              "         0,   0,   0,   0,   0,   0,   0,   0,  16,  93, 252, 253, 187,\n",
              "         0,   0,   0,   0,   0,   0,   0,   0,   0,   0,   0,   0,   0,\n",
              "         0,   0,   0,   0,   0,   0,   0,   0,   0,   0,   0,   0, 249,\n",
              "       253, 249,  64,   0,   0,   0,   0,   0,   0,   0,   0,   0,   0,\n",
              "         0,   0,   0,   0,   0,   0,   0,   0,   0,   0,   0,  46, 130,\n",
              "       183, 253, 253, 207,   2,   0,   0,   0,   0,   0,   0,   0,   0,\n",
              "         0,   0,   0,   0,   0,   0,   0,   0,   0,   0,   0,  39, 148,\n",
              "       229, 253, 253, 253, 250, 182,   0,   0,   0,   0,   0,   0,   0,\n",
              "         0,   0,   0,   0,   0,   0,   0,   0,   0,   0,   0,  24, 114,\n",
              "       221, 253, 253, 253, 253, 201,  78,   0,   0,   0,   0,   0,   0,\n",
              "         0,   0,   0,   0,   0,   0,   0,   0,   0,   0,   0,  23,  66,\n",
              "       213, 253, 253, 253, 253, 198,  81,   2,   0,   0,   0,   0,   0,\n",
              "         0,   0,   0,   0,   0,   0,   0,   0,   0,   0,   0,  18, 171,\n",
              "       219, 253, 253, 253, 253, 195,  80,   9,   0,   0,   0,   0,   0,\n",
              "         0,   0,   0,   0,   0,   0,   0,   0,   0,   0,   0,  55, 172,\n",
              "       226, 253, 253, 253, 253, 244, 133,  11,   0,   0,   0,   0,   0,\n",
              "         0,   0,   0,   0,   0,   0,   0,   0,   0,   0,   0,   0,   0,\n",
              "       136, 253, 253, 253, 212, 135, 132,  16,   0,   0,   0,   0,   0,\n",
              "         0,   0,   0,   0,   0,   0,   0,   0,   0,   0,   0,   0,   0,\n",
              "         0,   0,   0,   0,   0,   0,   0,   0,   0,   0,   0,   0,   0,\n",
              "         0,   0,   0,   0,   0,   0,   0,   0,   0,   0,   0,   0,   0,\n",
              "         0,   0,   0,   0,   0,   0,   0,   0,   0,   0,   0,   0,   0,\n",
              "         0,   0,   0,   0,   0,   0,   0,   0,   0,   0,   0,   0,   0,\n",
              "         0,   0,   0,   0,   0,   0,   0,   0,   0,   0,   0,   0,   0,\n",
              "         0,   0,   0,   0,   0,   0,   0,   0,   0,   0,   0,   0,   0,\n",
              "         0,   0,   0,   0], dtype=uint8)"
            ]
          },
          "metadata": {},
          "execution_count": 3
        }
      ]
    },
    {
      "cell_type": "code",
      "source": [
        "zero_train_images=[]\n",
        "one_train_images=[]\n",
        "two_train_images=[]\n",
        "three_train_images=[]\n",
        "four_train_images=[]\n",
        "five_train_images=[]\n",
        "six_train_images=[]\n",
        "seven_train_images=[]\n",
        "eight_train_images=[]\n",
        "nine_train_images=[]\n",
        "\n",
        "\n",
        "l = len(train_images)\n",
        "for i in range(0,l):\n",
        "  if train_labels[i] == 0:\n",
        "    zero_train_images.append(train_images[i])\n",
        "  elif train_labels[i] == 1:\n",
        "    one_train_images.append(train_images[i])\n",
        "  elif train_labels[i] == 2:\n",
        "    two_train_images.append(train_images[i])\n",
        "  elif train_labels[i] == 3:\n",
        "    three_train_images.append(train_images[i])\n",
        "  elif train_labels[i] == 4:\n",
        "    four_train_images.append(train_images[i])\n",
        "  elif train_labels[i] == 5:\n",
        "    five_train_images.append(train_images[i])\n",
        "  elif train_labels[i] == 6:\n",
        "    six_train_images.append(train_images[i])\n",
        "  elif train_labels[i] == 7:\n",
        "    seven_train_images.append(train_images[i])\n",
        "  elif train_labels[i] == 8:\n",
        "    eight_train_images.append(train_images[i])\n",
        "  elif train_labels[i] == 9:\n",
        "    nine_train_images.append(train_images[i])\n",
        ""
      ],
      "metadata": {
        "id": "RdoFcyl8U_En"
      },
      "execution_count": null,
      "outputs": []
    },
    {
      "cell_type": "code",
      "source": [
        "random.shuffle(zero_train_images)\n",
        "random.shuffle(one_train_images)\n",
        "random.shuffle(two_train_images)\n",
        "random.shuffle(three_train_images)\n",
        "random.shuffle(four_train_images)\n",
        "random.shuffle(five_train_images)\n",
        "random.shuffle(six_train_images)\n",
        "random.shuffle(seven_train_images)\n",
        "random.shuffle(eight_train_images)\n",
        "random.shuffle(nine_train_images)"
      ],
      "metadata": {
        "id": "C46Y8zCjnPNU"
      },
      "execution_count": null,
      "outputs": []
    },
    {
      "cell_type": "code",
      "source": [
        "new_train_images = []\n",
        "new_test_images = []\n",
        "\n",
        "new_train_labels = []\n",
        "new_test_labels = []"
      ],
      "metadata": {
        "id": "S68y00AgAJgu"
      },
      "execution_count": null,
      "outputs": []
    },
    {
      "cell_type": "code",
      "source": [
        "#creating new training images with label 0\n",
        "\n",
        "minl= min(len(zero_train_images), len(one_train_images))\n",
        "for i in range(0,minl):\n",
        "  new_image = np.zeros(28*28)\n",
        "  for x in range(0,28*28):\n",
        "    new_image[x] = (int(zero_train_images[i][x])+int(one_train_images[i][x]))//2\n",
        "  new_train_images.append(new_image)\n",
        "  new_train_labels.append(0)\n",
        "\n",
        "\n",
        "#creating new training images with label 1\n",
        "\n",
        "minl= min(len(two_train_images), len(three_train_images))\n",
        "for i in range(0,minl):\n",
        "  new_image = np.zeros(28*28)\n",
        "  for x in range(0,28*28):\n",
        "    new_image[x] = (int(two_train_images[i][x])+int(three_train_images[i][x]))//2\n",
        "  new_train_images.append(new_image)\n",
        "  new_train_labels.append(1)\n",
        "\n",
        "#creating new training images with label 2\n",
        "\n",
        "minl= min(len(four_train_images), len(five_train_images))\n",
        "for i in range(0,minl):\n",
        "  new_image = np.zeros(28*28)\n",
        "  for x in range(0,28*28):\n",
        "    new_image[x] = (int(four_train_images[i][x])+int(five_train_images[i][x]))//2\n",
        "  new_train_images.append(new_image)\n",
        "  new_train_labels.append(2)\n",
        "\n",
        "\n",
        "#creating new training images with label 3\n",
        "\n",
        "minl= min(len(six_train_images), len(seven_train_images))\n",
        "for i in range(0,minl):\n",
        "  new_image = np.zeros(28*28)\n",
        "  for x in range(0,28*28):\n",
        "    new_image[x] = (int(six_train_images[i][x])+int(seven_train_images[i][x]))//2\n",
        "  new_train_images.append(new_image)\n",
        "  new_train_labels.append(3)\n",
        "\n",
        "\n",
        "#creating new training images with label 4\n",
        "\n",
        "minl= min(len(eight_train_images), len(nine_train_images))\n",
        "for i in range(0,minl):\n",
        "  new_image = np.zeros(28*28)\n",
        "  for x in range(0,28*28):\n",
        "    new_image[x] = (int(eight_train_images[i][x])+int(nine_train_images[i][x]))//2\n",
        "  new_train_images.append(new_image)\n",
        "  new_train_labels.append(4)\n",
        "\n"
      ],
      "metadata": {
        "id": "ZtGtPmNnS35W"
      },
      "execution_count": null,
      "outputs": []
    },
    {
      "cell_type": "code",
      "source": [
        "zero_test_images=[]\n",
        "one_test_images=[]\n",
        "two_test_images=[]\n",
        "three_test_images=[]\n",
        "four_test_images=[]\n",
        "five_test_images=[]\n",
        "six_test_images=[]\n",
        "seven_test_images=[]\n",
        "eight_test_images=[]\n",
        "nine_test_images=[]\n",
        "\n",
        "\n",
        "l = len(test_images)\n",
        "for i in range(0,l):\n",
        "  if test_labels[i] == 0:\n",
        "    zero_test_images.append(test_images[i])\n",
        "  elif test_labels[i] == 1:\n",
        "    one_test_images.append(test_images[i])\n",
        "  elif test_labels[i] == 2:\n",
        "    two_test_images.append(test_images[i])\n",
        "  elif test_labels[i] == 3:\n",
        "    three_test_images.append(test_images[i])\n",
        "  elif test_labels[i] == 4:\n",
        "    four_test_images.append(test_images[i])\n",
        "  elif test_labels[i] == 5:\n",
        "    five_test_images.append(test_images[i])\n",
        "  elif test_labels[i] == 6:\n",
        "    six_test_images.append(test_images[i])\n",
        "  elif test_labels[i] == 7:\n",
        "    seven_test_images.append(test_images[i])\n",
        "  elif test_labels[i] == 8:\n",
        "    eight_test_images.append(test_images[i])\n",
        "  elif test_labels[i] == 9:\n",
        "    nine_test_images.append(test_images[i])\n",
        ""
      ],
      "metadata": {
        "id": "dXv4ky0DW_dN"
      },
      "execution_count": null,
      "outputs": []
    },
    {
      "cell_type": "code",
      "source": [
        "random.shuffle(zero_test_images)\n",
        "random.shuffle(one_test_images)\n",
        "random.shuffle(two_test_images)\n",
        "random.shuffle(three_test_images)\n",
        "random.shuffle(four_test_images)\n",
        "random.shuffle(five_test_images)\n",
        "random.shuffle(six_test_images)\n",
        "random.shuffle(seven_test_images)\n",
        "random.shuffle(eight_test_images)\n",
        "random.shuffle(nine_test_images)"
      ],
      "metadata": {
        "id": "PwWJ8cajw9Xq"
      },
      "execution_count": null,
      "outputs": []
    },
    {
      "cell_type": "code",
      "source": [
        "#creating new testing images with label 0\n",
        "\n",
        "minl= min(len(zero_test_images), len(one_test_images))\n",
        "for i in range(0,minl):\n",
        "  new_image = np.zeros(28*28)\n",
        "  for x in range(0,28*28):\n",
        "    new_image[x] = (int(zero_test_images[i][x])+int(one_test_images[i][x]))//2\n",
        "  new_test_images.append(new_image)\n",
        "  new_test_labels.append(0)\n",
        "\n",
        "\n",
        "#creating new testing images with label 1\n",
        "\n",
        "minl= min(len(two_test_images), len(three_test_images))\n",
        "for i in range(0,minl):\n",
        "  new_image = np.zeros(28*28)\n",
        "  for x in range(0,28*28):\n",
        "    new_image[x] = (int(two_test_images[i][x])+int(three_test_images[i][x]))//2\n",
        "  new_test_images.append(new_image)\n",
        "  new_test_labels.append(1)\n",
        "\n",
        "#creating new testing images with label 2\n",
        "\n",
        "minl= min(len(four_test_images), len(five_test_images))\n",
        "for i in range(0,minl):\n",
        "  new_image = np.zeros(28*28)\n",
        "  for x in range(0,28*28):\n",
        "    new_image[x] = (int(four_test_images[i][x])+int(five_test_images[i][x]))//2\n",
        "  new_test_images.append(new_image)\n",
        "  new_test_labels.append(2)\n",
        "\n",
        "\n",
        "#creating new testing images with label 3\n",
        "\n",
        "minl= min(len(six_test_images), len(seven_test_images))\n",
        "for i in range(0,minl):\n",
        "  new_image = np.zeros(28*28)\n",
        "  for x in range(0,28*28):\n",
        "    new_image[x] = (int(six_test_images[i][x])+int(seven_test_images[i][x]))//2\n",
        "  new_test_images.append(new_image)\n",
        "  new_test_labels.append(3)\n",
        "\n",
        "\n",
        "#creating new testing images with label 4\n",
        "\n",
        "minl= min(len(eight_test_images), len(nine_test_images))\n",
        "for i in range(0,minl):\n",
        "  new_image = np.zeros(28*28)\n",
        "  for x in range(0,28*28):\n",
        "    new_image[x] = (int(eight_test_images[i][x])+int(nine_test_images[i][x]))//2\n",
        "  new_test_images.append(new_image)\n",
        "  new_test_labels.append(4)"
      ],
      "metadata": {
        "id": "nfMW5v55xI1U"
      },
      "execution_count": null,
      "outputs": []
    },
    {
      "cell_type": "code",
      "source": [
        "print(\"The total size of training dataset is: \"+ str(len(new_train_images)))\n",
        "print(\"The total size of testing dataset is: \"+ str(len(new_test_images)))\n",
        "\n",
        "print(\"The total size of training labels is: \"+ str(len(new_train_labels)))\n",
        "print(\"The total size of testing labels is: \"+ str(len(new_test_labels)))\n",
        "\n"
      ],
      "metadata": {
        "id": "jnZa2K3TyFMQ",
        "colab": {
          "base_uri": "https://localhost:8080/"
        },
        "outputId": "3e147026-3e2f-4f46-8330-b03c41b9adf2"
      },
      "execution_count": null,
      "outputs": [
        {
          "output_type": "stream",
          "name": "stdout",
          "text": [
            "The total size of training dataset is: 29071\n",
            "The total size of testing dataset is: 4814\n",
            "The total size of training labels is: 29071\n",
            "The total size of testing labels is: 4814\n"
          ]
        }
      ]
    },
    {
      "cell_type": "code",
      "source": [
        "# Shuffling the training dataset.\n",
        "\n",
        "temp = list(zip(new_train_images, new_train_labels))\n",
        "random.shuffle(temp)\n",
        "res1, res2 = zip(*temp)\n",
        "# res1 and res2 come out as tuples, and so must be converted to lists.\n",
        "new_train_images, new_train_labels = list(res1), list(res2)\n"
      ],
      "metadata": {
        "id": "vU4Y-pPJhuRH"
      },
      "execution_count": null,
      "outputs": []
    },
    {
      "cell_type": "code",
      "source": [
        "total_dataset = []\n",
        "total_labels = []\n",
        "\n",
        "total_dataset.extend(new_train_images)\n",
        "total_dataset.extend(new_test_images)\n",
        "\n",
        "total_labels.extend(new_train_labels)\n",
        "total_labels.extend(new_test_labels)\n",
        "\n",
        "print(len(total_dataset))\n",
        "print(len(total_labels))"
      ],
      "metadata": {
        "id": "pAgr0WoX7JlH",
        "colab": {
          "base_uri": "https://localhost:8080/"
        },
        "outputId": "e188ef01-5d16-49f7-ec07-ca162fb74ca2"
      },
      "execution_count": null,
      "outputs": [
        {
          "output_type": "stream",
          "name": "stdout",
          "text": [
            "33885\n",
            "33885\n"
          ]
        }
      ]
    },
    {
      "cell_type": "code",
      "source": [
        "from matplotlib import pyplot as plt\n",
        "\n",
        "for i in range(0,5):\n",
        "  count=0\n",
        "  print(\"Printing images for label: \"+ str(i))\n",
        "  while count<2:\n",
        "    index = random.randint(0,len(total_dataset)-1)\n",
        "    if total_labels[index] == i:\n",
        "      pixels = total_dataset[index].reshape((28, 28))\n",
        "      plt.imshow(pixels, cmap='gray')\n",
        "      plt.show()\n",
        "      count+=1"
      ],
      "metadata": {
        "id": "LXB3jGKjGuA2",
        "colab": {
          "base_uri": "https://localhost:8080/",
          "height": 1000
        },
        "outputId": "1d448cf4-c3cb-42aa-9891-fd8415f809f8"
      },
      "execution_count": null,
      "outputs": [
        {
          "output_type": "stream",
          "name": "stdout",
          "text": [
            "Printing images for label: 0\n"
          ]
        },
        {
          "output_type": "display_data",
          "data": {
            "text/plain": [
              "<Figure size 432x288 with 1 Axes>"
            ],
            "image/png": "[encoded data removed]"
          },
          "metadata": {
            "needs_background": "light"
          }
        },
        {
          "output_type": "display_data",
          "data": {
            "text/plain": [
              "<Figure size 432x288 with 1 Axes>"
            ],
            "image/png": "[encoded data removed]"
          },
          "metadata": {
            "needs_background": "light"
          }
        },
        {
          "output_type": "stream",
          "name": "stdout",
          "text": [
            "Printing images for label: 1\n"
          ]
        },
        {
          "output_type": "display_data",
          "data": {
            "text/plain": [
              "<Figure size 432x288 with 1 Axes>"
            ],
            "image/png": "[encoded data removed]"
          },
          "metadata": {
            "needs_background": "light"
          }
        },
        {
          "output_type": "display_data",
          "data": {
            "text/plain": [
              "<Figure size 432x288 with 1 Axes>"
            ],
            "image/png": "[encoded data removed]"
          },
          "metadata": {
            "needs_background": "light"
          }
        },
        {
          "output_type": "stream",
          "name": "stdout",
          "text": [
            "Printing images for label: 2\n"
          ]
        },
        {
          "output_type": "display_data",
          "data": {
            "text/plain": [
              "<Figure size 432x288 with 1 Axes>"
            ],
            "image/png": "[encoded data removed]"
          },
          "metadata": {
            "needs_background": "light"
          }
        },
        {
          "output_type": "display_data",
          "data": {
            "text/plain": [
              "<Figure size 432x288 with 1 Axes>"
            ],
            "image/png": "[encoded data removed]"
          },
          "metadata": {
            "needs_background": "light"
          }
        },
        {
          "output_type": "stream",
          "name": "stdout",
          "text": [
            "Printing images for label: 3\n"
          ]
        },
        {
          "output_type": "display_data",
          "data": {
            "text/plain": [
              "<Figure size 432x288 with 1 Axes>"
            ],
            "image/png": "[encoded data removed]"
          },
          "metadata": {
            "needs_background": "light"
          }
        },
        {
          "output_type": "display_data",
          "data": {
            "text/plain": [
              "<Figure size 432x288 with 1 Axes>"
            ],
            "image/png": "[encoded data removed]"
          },
          "metadata": {
            "needs_background": "light"
          }
        },
        {
          "output_type": "stream",
          "name": "stdout",
          "text": [
            "Printing images for label: 4\n"
          ]
        },
        {
          "output_type": "display_data",
          "data": {
            "text/plain": [
              "<Figure size 432x288 with 1 Axes>"
            ],
            "image/png": "[encoded data removed]"
          },
          "metadata": {
            "needs_background": "light"
          }
        },
        {
          "output_type": "display_data",
          "data": {
            "text/plain": [
              "<Figure size 432x288 with 1 Axes>"
            ],
            "image/png": "[encoded data removed]"
          },
          "metadata": {
            "needs_background": "light"
          }
        }
      ]
    },
    {
      "cell_type": "markdown",
      "source": [
        "3) Design a neural network model to classify the 5 classes in the new dataset, and optimize it by tuning its hyper-parameters and trying our learned regualization techniques (such as L1 regularization, L2 regularization, dropout).\n",
        "\n",
        "  **Your task: For your final (namely, optimized) neural network model, submit its code, and show the model's performance (including loss value and accuracy) for training, validation and testing. (For training performance and validation performance, illustrate them using figures, where the x-axis is the number of training epochs, and the y-axis is the loss or accuracy. For testing performance, just show the values of loss and accuracy.) Also, answer the questions: in this process of optimizing your model, did you observe underfitting? Did you observe overfitting? Did you try the reguliazation techniques? Did they help? (10 points)**"
      ],
      "metadata": {
        "id": "jjCDhymULRiE"
      }
    },
    {
      "cell_type": "code",
      "source": [
        "from tensorflow import keras\n",
        "from tensorflow.keras import layers, regularizers\n",
        "model = keras.Sequential([\n",
        "    layers.Dense(512, activation=\"relu\", kernel_regularizer = regularizers.l2(0.0002)),\n",
        "    layers.Dropout(0.4),\n",
        "    layers.Dense(128, activation=\"relu\", kernel_regularizer = regularizers.l2(0.0002)),\n",
        "    layers.Dropout(0.4),\n",
        "    layers.Dense(128, activation=\"relu\", kernel_regularizer = regularizers.l2(0.0002)),\n",
        "    layers.Dropout(0.4),\n",
        "    layers.Dense(5, activation=\"softmax\")\n",
        "])"
      ],
      "metadata": {
        "id": "lqtjuTblUA2X"
      },
      "execution_count": null,
      "outputs": []
    },
    {
      "cell_type": "code",
      "source": [
        "model.compile(optimizer=\"adam\",\n",
        "              loss=\"sparse_categorical_crossentropy\",\n",
        "              metrics=[\"accuracy\"])"
      ],
      "metadata": {
        "id": "YiXBJkMRUEq5"
      },
      "execution_count": null,
      "outputs": []
    },
    {
      "cell_type": "code",
      "source": [
        "new_train_images = np.float32(new_train_images)\n",
        "new_test_images = np.float32(new_test_images)\n"
      ],
      "metadata": {
        "id": "brzvE714RSe1"
      },
      "execution_count": null,
      "outputs": []
    },
    {
      "cell_type": "code",
      "source": [
        "new_train_images = np.array(new_train_images)\n",
        "new_train_labels = np.array(new_train_labels)\n",
        "new_test_images = np.array(new_test_images)\n",
        "new_test_labels = np.array(new_test_labels)"
      ],
      "metadata": {
        "id": "7lJeUJBDTk-O"
      },
      "execution_count": null,
      "outputs": []
    },
    {
      "cell_type": "code",
      "source": [
        "print(new_train_images[0])\n",
        "print(new_test_images[0])"
      ],
      "metadata": {
        "colab": {
          "base_uri": "https://localhost:8080/"
        },
        "id": "AsniQh57kwGd",
        "outputId": "49ea7306-7410-4c02-d6fa-8673232485f2"
      },
      "execution_count": null,
      "outputs": [
        {
          "output_type": "stream",
          "name": "stdout",
          "text": [
            "[  0.   0.   0.   0.   0.   0.   0.   0.   0.   0.   0.   0.   0.   0.\n",
            "   0.   0.   0.   0.   0.   0.   0.   0.   0.   0.   0.   0.   0.   0.\n",
            "   0.   0.   0.   0.   0.   0.   0.   0.   0.   0.   0.   0.   0.   0.\n",
            "   0.   0.   0.   0.   0.   0.   0.   0.   0.   0.   0.   0.   0.   0.\n",
            "   0.   0.   0.   0.   0.   0.   0.   0.   0.   0.   0.   0.   0.   0.\n",
            "   0.   0.   0.   0.   0.   0.   0.   0.   0.   0.   0.   0.   0.   0.\n",
            "   0.   0.   0.   0.   0.   0.   0.   0.   0.   0.   0.   0.   0.   0.\n",
            "   0.   0.   0.   0.   0.   0.   0.   0.   0.   0.   0.   0.   0.   0.\n",
            "   0.   0.   0.   0.   0.   0.   0.   0.   0.   0.   0.   0.   0.   0.\n",
            "   0.   0.   0. 121. 173.  76.  76.  20.   0.   0.   0.   0.   0.   0.\n",
            "   0.   0.   0.   0.   0.   0.   0.   0.   0.   0.   0.   0.   0.   0.\n",
            "   0.  51.  91. 254. 253. 158. 126. 121.  81.   0.   0.   0.   0.   0.\n",
            "   0.   0.   0.   0.   0.   0.   0.   0.   0.   0.   0.   0.  10.  66.\n",
            " 126. 127. 254. 254. 244. 229. 101. 127. 126.  61.   0.   0.   0.   0.\n",
            "   0.   0.   0.   0.   0.   0.   0.   0.  41.  51.  10.   0.  51. 126.\n",
            " 126. 116. 203. 152. 142.  64.   0.  35. 116. 121.  61.   0.   0.   0.\n",
            "   0.   0.   0.   0.   0.   0.  10.  86. 126. 127.  65.   0.  71. 127.\n",
            "  96.  32. 127. 127. 127.   0.   0.   0.  71. 127. 106.   0.   0.   0.\n",
            "   0.   0.   0.   0.   0.   0.  51. 126.  85.  25.   5.   0.  51. 126.\n",
            " 116. 115. 137. 127. 127.   0.   0.   0.  10. 126. 126.   0.   0.   0.\n",
            "   0.   0.   0.   0.   0.  15. 116. 122.  61.   0.   0.   0.   0.  81.\n",
            " 101. 197. 147. 127.  64.   0.   0.   0.   0. 127. 116.   0.   0.   0.\n",
            "   0.   0.   0.   0.   0.  66. 126. 101.   0.   0.   0.   0.   0.   0.\n",
            "  32. 127. 127. 127.   0.   0.   0.   0.  41. 126.  75.   0.   0.   0.\n",
            "   0.   0.   0.   0.   0.  76. 126.  91.   0.   0.   0.   0.   0.   0.\n",
            "  64. 127. 127.  64.   0.   0.   0.   0. 101. 127.  25.   0.   0.   0.\n",
            "   0.   0.   0.   0.   0.  76. 126.  51.   0.   0.   0.   0.   0.  32.\n",
            " 127. 127. 127.  32.   0.   0.   0.  10. 111. 106.   5.   0.   0.   0.\n",
            "   0.   0.   0.   0.   0. 127. 126.  41.   0.   0.   0.   0.   0. 127.\n",
            " 127. 127.  95.   0.   0.   0.   0. 107. 126.  71.   0.   0.   0.   0.\n",
            "   0.   0.   0.   0.   0. 126. 126.  20.   0.   0.   0.   0.  32. 127.\n",
            " 127. 127.   0.   0.   0.   0.  41. 126. 126.  10.   0.   0.   0.   0.\n",
            "   0.   0.   0.   0.   0. 127. 126.  51.   0.   0.   0.  32. 127. 127.\n",
            " 127.  95.   0.   0.   0.  25. 116. 127.  45.   0.   0.   0.   0.   0.\n",
            "   0.   0.   0.   0.   0. 126. 126.  51.   0.   0.   0.  95. 127. 127.\n",
            "  95.   0.   0.   0.  20.  96. 126. 116.  15.   0.   0.   0.   0.   0.\n",
            "   0.   0.   0.   0.   0.  76. 126. 101.   0.   0.  32. 127. 127. 127.\n",
            "  64.   0.   0.  15.  66. 127. 116.   0.   0.   0.   0.   0.   0.   0.\n",
            "   0.   0.   0.   0.   0.  76. 126. 121.  81.   0. 127. 127. 127.  95.\n",
            "   0.   0.  41. 116. 126. 116.  25.   0.   0.   0.   0.   0.   0.   0.\n",
            "   0.   0.   0.   0.   0.  10. 111. 127. 126. 161. 143. 127. 138.  36.\n",
            "  76. 107. 126. 127.  96.  20.   0.   0.   0.   0.   0.   0.   0.   0.\n",
            "   0.   0.   0.   0.   0.   0.  40. 126. 190. 254. 243. 229. 207. 126.\n",
            " 126. 126. 126.  96.  25.   0.   0.   0.   0.   0.   0.   0.   0.   0.\n",
            "   0.   0.   0.   0.   0.   0.   0.  31. 219. 255. 254. 254. 190. 127.\n",
            " 116.  71.  10.   0.   0.   0.   0.   0.   0.   0.   0.   0.   0.   0.\n",
            "   0.   0.   0.   0.   0.   0.   0.   0.  64. 152. 193. 171.  75.  25.\n",
            "  15.   0.   0.   0.   0.   0.   0.   0.   0.   0.   0.   0.   0.   0.\n",
            "   0.   0.   0.   0.   0.   0.   0.   0.   0.   0.   0.   0.   0.   0.\n",
            "   0.   0.   0.   0.   0.   0.   0.   0.   0.   0.   0.   0.   0.   0.\n",
            "   0.   0.   0.   0.   0.   0.   0.   0.   0.   0.   0.   0.   0.   0.\n",
            "   0.   0.   0.   0.   0.   0.   0.   0.   0.   0.   0.   0.   0.   0.\n",
            "   0.   0.   0.   0.   0.   0.   0.   0.   0.   0.   0.   0.   0.   0.\n",
            "   0.   0.   0.   0.   0.   0.   0.   0.   0.   0.   0.   0.   0.   0.\n",
            "   0.   0.   0.   0.   0.   0.   0.   0.   0.   0.   0.   0.   0.   0.\n",
            "   0.   0.   0.   0.   0.   0.   0.   0.   0.   0.   0.   0.   0.   0.]\n",
            "[  0.   0.   0.   0.   0.   0.   0.   0.   0.   0.   0.   0.   0.   0.\n",
            "   0.   0.   0.   0.   0.   0.   0.   0.   0.   0.   0.   0.   0.   0.\n",
            "   0.   0.   0.   0.   0.   0.   0.   0.   0.   0.   0.   0.   0.   0.\n",
            "   0.   0.   0.   0.   0.   0.   0.   0.   0.   0.   0.   0.   0.   0.\n",
            "   0.   0.   0.   0.   0.   0.   0.   0.   0.   0.   0.   0.   0.   0.\n",
            "   0.   0.   0.   0.   0.   0.   0.   0.   0.   0.   0.   0.   0.   0.\n",
            "   0.   0.   0.   0.   0.   0.   0.   0.   0.   0.   0.   0.   0.   0.\n",
            "   0.   0.   0.   0.   0.   0.   0.   0.   0.   0.   0.   0.   0.   0.\n",
            "   0.   0.   0.   0.   0.   0.   0.   0.   0.   0.   0.   0.   0.   0.\n",
            "   0.   0.   0.   0.   0.   0.   0.   0.   0.   0.   0.   0.   0.   0.\n",
            "   0.   0.   0.   0.   0.   0.   0.   0.   0.   0.   0.   0.   0.  42.\n",
            "  88.  89.  88.  43.  93. 127.  22.   0.   0.   0.   0.   0.   0.   0.\n",
            "   0.   0.   0.   0.   0.   0.   0.   0.   0.   0.   0.   2.  60. 121.\n",
            " 126. 127. 126. 161. 235. 165.  45.   0.   0.   0.   0.   0.   0.   0.\n",
            "   0.   0.   0.   0.   0.   0.   0.   0.   0.   0.   4.  64. 126. 126.\n",
            " 126. 127. 135. 212. 253. 236.  67.   1.   0.   0.   0.   0.   0.   0.\n",
            "   0.   0.   0.   0.   0.   0.   0.   0.   0.  30.  98. 126. 126. 126.\n",
            " 126. 123. 148. 240. 248. 195. 130.  59.   0.   0.   0.   0.   0.   0.\n",
            "   0.   0.   0.   0.   0.   0.   0.   0.  28. 117. 126. 126. 126. 126.\n",
            " 126.  73. 104. 149. 194. 141. 126. 125.  39.   0.   0.   0.   0.   0.\n",
            "   0.   0.   0.   0.   0.   0.   0.  26. 119. 126. 126. 126. 125. 125.\n",
            " 134.  74. 126. 114.  53. 105. 126. 126. 110.  18.   0.   0.   0.   0.\n",
            "   0.   0.   0.   0.   0.   0.  20. 118. 126. 126. 126. 123.  41.  37.\n",
            " 127. 148. 126.  37.   0.  49. 126. 126. 126.  94.   3.   0.   0.   0.\n",
            "   0.   0.   0.   0.   0.   0.  74. 126. 126. 126. 113.  36.   0.  13.\n",
            "  90. 126. 121.  23.   0.   7.  89. 126. 126. 126.  57.   0.   0.   0.\n",
            "   0.   0.   0.   0.   0.  39. 122. 126. 126. 114.  22.   0.   0.  34.\n",
            " 126. 126.  61.   0.   0.   0.  44. 126. 126. 126. 119.   0.   0.   0.\n",
            "   0.   0.   0.   0.   0. 103. 127. 127. 127.  44.   0.   0.  30. 119.\n",
            " 126. 116.   2.   0.   0.  16. 115. 127. 127. 127. 127.   0.   0.   0.\n",
            "   0.   0.   0.   0.   0. 127. 126. 126. 119.  13.   0.   0.  83. 126.\n",
            " 126.  36.   0.   0.  17.  77. 126. 126. 126. 126. 126.   0.   0.   0.\n",
            "   0.   0.   0.   0.   0. 127. 126. 126.  69.   0.   0.   4. 108. 126.\n",
            " 103.  11.   0.  41. 114. 126. 126. 126. 126. 126.  59.   0.   0.   0.\n",
            "   0.   0.   0.   0.   0. 127. 126. 126.  12.   0.   0.  47. 126. 134.\n",
            "  67.  66. 105. 126. 126. 126. 126. 126. 120.  81.   1.   0.   0.   0.\n",
            "   0.   0.   0.   0.   0. 115. 126. 126. 103.  47.  28. 142. 209. 212.\n",
            " 126. 127. 126. 126. 126. 126. 126. 111.  17.   0.   0.   0.   0.   0.\n",
            "   0.   0.   0.   0.   0.  72. 126. 126. 126. 126. 169. 249. 253. 162.\n",
            " 126. 127. 126. 126. 126. 126. 111.  19.   0.   0.   0.   0.   0.   0.\n",
            "   0.   0.   0.   0.   0.   6.  64. 126. 126. 128. 218. 253. 225. 128.\n",
            " 126. 127. 126. 126. 119.  54.   7.   0.   0.   0.   0.   0.   0.   0.\n",
            "   0.   0.   0.   0.   0.   0.   0.  41. 104. 153. 253. 251. 175. 126.\n",
            " 126. 105.  66.  49.  23.   0.   0.   0.   0.   0.   0.   0.   0.   0.\n",
            "   0.   0.   0.   0.   0.   0.   0.   0.   3. 121. 159. 107.  33.  33.\n",
            "  33.   0.   0.   0.   0.   0.   0.   0.   0.   0.   0.   0.   0.   0.\n",
            "   0.   0.   0.   0.   0.   0.   0.   0.   0. 117. 118.  31.   0.   0.\n",
            "   0.   0.   0.   0.   0.   0.   0.   0.   0.   0.   0.   0.   0.   0.\n",
            "   0.   0.   0.   0.   0.   0.   0.   0.   0. 117.  48.   0.   0.   0.\n",
            "   0.   0.   0.   0.   0.   0.   0.   0.   0.   0.   0.   0.   0.   0.\n",
            "   0.   0.   0.   0.   0.   0.   0.   0.   0.   0.   0.   0.   0.   0.\n",
            "   0.   0.   0.   0.   0.   0.   0.   0.   0.   0.   0.   0.   0.   0.\n",
            "   0.   0.   0.   0.   0.   0.   0.   0.   0.   0.   0.   0.   0.   0.\n",
            "   0.   0.   0.   0.   0.   0.   0.   0.   0.   0.   0.   0.   0.   0.\n",
            "   0.   0.   0.   0.   0.   0.   0.   0.   0.   0.   0.   0.   0.   0.\n",
            "   0.   0.   0.   0.   0.   0.   0.   0.   0.   0.   0.   0.   0.   0.]\n"
          ]
        }
      ]
    },
    {
      "cell_type": "code",
      "source": [
        "new_train_images = np.divide(new_train_images, 255)\n",
        "new_test_images = np.divide(new_test_images, 255)"
      ],
      "metadata": {
        "id": "MkQwGdEtkN4w"
      },
      "execution_count": null,
      "outputs": []
    },
    {
      "cell_type": "code",
      "source": [
        "print(new_train_images[0])\n",
        "print(new_test_images[0])"
      ],
      "metadata": {
        "colab": {
          "base_uri": "https://localhost:8080/"
        },
        "id": "UHNQaR4Mk10Z",
        "outputId": "a0ec45a1-89cf-4d47-9883-13f7c69816b6"
      },
      "execution_count": null,
      "outputs": [
        {
          "output_type": "stream",
          "name": "stdout",
          "text": [
            "[0.         0.         0.         0.         0.         0.\n",
            " 0.         0.         0.         0.         0.         0.\n",
            " 0.         0.         0.         0.         0.         0.\n",
            " 0.         0.         0.         0.         0.         0.\n",
            " 0.         0.         0.         0.         0.         0.\n",
            " 0.         0.         0.         0.         0.         0.\n",
            " 0.         0.         0.         0.         0.         0.\n",
            " 0.         0.         0.         0.         0.         0.\n",
            " 0.         0.         0.         0.         0.         0.\n",
            " 0.         0.         0.         0.         0.         0.\n",
            " 0.         0.         0.         0.         0.         0.\n",
            " 0.         0.         0.         0.         0.         0.\n",
            " 0.         0.         0.         0.         0.         0.\n",
            " 0.         0.         0.         0.         0.         0.\n",
            " 0.         0.         0.         0.         0.         0.\n",
            " 0.         0.         0.         0.         0.         0.\n",
            " 0.         0.         0.         0.         0.         0.\n",
            " 0.         0.         0.         0.         0.         0.\n",
            " 0.         0.         0.         0.         0.         0.\n",
            " 0.         0.         0.         0.         0.         0.\n",
            " 0.         0.         0.         0.         0.         0.\n",
            " 0.         0.         0.         0.4745098  0.6784314  0.29803923\n",
            " 0.29803923 0.07843138 0.         0.         0.         0.\n",
            " 0.         0.         0.         0.         0.         0.\n",
            " 0.         0.         0.         0.         0.         0.\n",
            " 0.         0.         0.         0.         0.         0.2\n",
            " 0.35686275 0.99607843 0.99215686 0.61960787 0.49411765 0.4745098\n",
            " 0.31764707 0.         0.         0.         0.         0.\n",
            " 0.         0.         0.         0.         0.         0.\n",
            " 0.         0.         0.         0.         0.         0.\n",
            " 0.03921569 0.25882354 0.49411765 0.49803922 0.99607843 0.99607843\n",
            " 0.95686275 0.8980392  0.39607844 0.49803922 0.49411765 0.23921569\n",
            " 0.         0.         0.         0.         0.         0.\n",
            " 0.         0.         0.         0.         0.         0.\n",
            " 0.16078432 0.2        0.03921569 0.         0.2        0.49411765\n",
            " 0.49411765 0.45490196 0.79607844 0.59607846 0.5568628  0.2509804\n",
            " 0.         0.13725491 0.45490196 0.4745098  0.23921569 0.\n",
            " 0.         0.         0.         0.         0.         0.\n",
            " 0.         0.         0.03921569 0.3372549  0.49411765 0.49803922\n",
            " 0.25490198 0.         0.2784314  0.49803922 0.3764706  0.1254902\n",
            " 0.49803922 0.49803922 0.49803922 0.         0.         0.\n",
            " 0.2784314  0.49803922 0.41568628 0.         0.         0.\n",
            " 0.         0.         0.         0.         0.         0.\n",
            " 0.2        0.49411765 0.33333334 0.09803922 0.01960784 0.\n",
            " 0.2        0.49411765 0.45490196 0.4509804  0.5372549  0.49803922\n",
            " 0.49803922 0.         0.         0.         0.03921569 0.49411765\n",
            " 0.49411765 0.         0.         0.         0.         0.\n",
            " 0.         0.         0.         0.05882353 0.45490196 0.47843137\n",
            " 0.23921569 0.         0.         0.         0.         0.31764707\n",
            " 0.39607844 0.77254903 0.5764706  0.49803922 0.2509804  0.\n",
            " 0.         0.         0.         0.49803922 0.45490196 0.\n",
            " 0.         0.         0.         0.         0.         0.\n",
            " 0.         0.25882354 0.49411765 0.39607844 0.         0.\n",
            " 0.         0.         0.         0.         0.1254902  0.49803922\n",
            " 0.49803922 0.49803922 0.         0.         0.         0.\n",
            " 0.16078432 0.49411765 0.29411766 0.         0.         0.\n",
            " 0.         0.         0.         0.         0.         0.29803923\n",
            " 0.49411765 0.35686275 0.         0.         0.         0.\n",
            " 0.         0.         0.2509804  0.49803922 0.49803922 0.2509804\n",
            " 0.         0.         0.         0.         0.39607844 0.49803922\n",
            " 0.09803922 0.         0.         0.         0.         0.\n",
            " 0.         0.         0.         0.29803923 0.49411765 0.2\n",
            " 0.         0.         0.         0.         0.         0.1254902\n",
            " 0.49803922 0.49803922 0.49803922 0.1254902  0.         0.\n",
            " 0.         0.03921569 0.43529412 0.41568628 0.01960784 0.\n",
            " 0.         0.         0.         0.         0.         0.\n",
            " 0.         0.49803922 0.49411765 0.16078432 0.         0.\n",
            " 0.         0.         0.         0.49803922 0.49803922 0.49803922\n",
            " 0.37254903 0.         0.         0.         0.         0.41960785\n",
            " 0.49411765 0.2784314  0.         0.         0.         0.\n",
            " 0.         0.         0.         0.         0.         0.49411765\n",
            " 0.49411765 0.07843138 0.         0.         0.         0.\n",
            " 0.1254902  0.49803922 0.49803922 0.49803922 0.         0.\n",
            " 0.         0.         0.16078432 0.49411765 0.49411765 0.03921569\n",
            " 0.         0.         0.         0.         0.         0.\n",
            " 0.         0.         0.         0.49803922 0.49411765 0.2\n",
            " 0.         0.         0.         0.1254902  0.49803922 0.49803922\n",
            " 0.49803922 0.37254903 0.         0.         0.         0.09803922\n",
            " 0.45490196 0.49803922 0.1764706  0.         0.         0.\n",
            " 0.         0.         0.         0.         0.         0.\n",
            " 0.         0.49411765 0.49411765 0.2        0.         0.\n",
            " 0.         0.37254903 0.49803922 0.49803922 0.37254903 0.\n",
            " 0.         0.         0.07843138 0.3764706  0.49411765 0.45490196\n",
            " 0.05882353 0.         0.         0.         0.         0.\n",
            " 0.         0.         0.         0.         0.         0.29803923\n",
            " 0.49411765 0.39607844 0.         0.         0.1254902  0.49803922\n",
            " 0.49803922 0.49803922 0.2509804  0.         0.         0.05882353\n",
            " 0.25882354 0.49803922 0.45490196 0.         0.         0.\n",
            " 0.         0.         0.         0.         0.         0.\n",
            " 0.         0.         0.         0.29803923 0.49411765 0.4745098\n",
            " 0.31764707 0.         0.49803922 0.49803922 0.49803922 0.37254903\n",
            " 0.         0.         0.16078432 0.45490196 0.49411765 0.45490196\n",
            " 0.09803922 0.         0.         0.         0.         0.\n",
            " 0.         0.         0.         0.         0.         0.\n",
            " 0.         0.03921569 0.43529412 0.49803922 0.49411765 0.6313726\n",
            " 0.56078434 0.49803922 0.5411765  0.14117648 0.29803923 0.41960785\n",
            " 0.49411765 0.49803922 0.3764706  0.07843138 0.         0.\n",
            " 0.         0.         0.         0.         0.         0.\n",
            " 0.         0.         0.         0.         0.         0.\n",
            " 0.15686275 0.49411765 0.74509805 0.99607843 0.9529412  0.8980392\n",
            " 0.8117647  0.49411765 0.49411765 0.49411765 0.49411765 0.3764706\n",
            " 0.09803922 0.         0.         0.         0.         0.\n",
            " 0.         0.         0.         0.         0.         0.\n",
            " 0.         0.         0.         0.         0.         0.12156863\n",
            " 0.85882354 1.         0.99607843 0.99607843 0.74509805 0.49803922\n",
            " 0.45490196 0.2784314  0.03921569 0.         0.         0.\n",
            " 0.         0.         0.         0.         0.         0.\n",
            " 0.         0.         0.         0.         0.         0.\n",
            " 0.         0.         0.         0.         0.2509804  0.59607846\n",
            " 0.75686276 0.67058825 0.29411766 0.09803922 0.05882353 0.\n",
            " 0.         0.         0.         0.         0.         0.\n",
            " 0.         0.         0.         0.         0.         0.\n",
            " 0.         0.         0.         0.         0.         0.\n",
            " 0.         0.         0.         0.         0.         0.\n",
            " 0.         0.         0.         0.         0.         0.\n",
            " 0.         0.         0.         0.         0.         0.\n",
            " 0.         0.         0.         0.         0.         0.\n",
            " 0.         0.         0.         0.         0.         0.\n",
            " 0.         0.         0.         0.         0.         0.\n",
            " 0.         0.         0.         0.         0.         0.\n",
            " 0.         0.         0.         0.         0.         0.\n",
            " 0.         0.         0.         0.         0.         0.\n",
            " 0.         0.         0.         0.         0.         0.\n",
            " 0.         0.         0.         0.         0.         0.\n",
            " 0.         0.         0.         0.         0.         0.\n",
            " 0.         0.         0.         0.         0.         0.\n",
            " 0.         0.         0.         0.         0.         0.\n",
            " 0.         0.         0.         0.         0.         0.\n",
            " 0.         0.         0.         0.         0.         0.\n",
            " 0.         0.         0.         0.         0.         0.\n",
            " 0.         0.         0.         0.        ]\n",
            "[0.         0.         0.         0.         0.         0.\n",
            " 0.         0.         0.         0.         0.         0.\n",
            " 0.         0.         0.         0.         0.         0.\n",
            " 0.         0.         0.         0.         0.         0.\n",
            " 0.         0.         0.         0.         0.         0.\n",
            " 0.         0.         0.         0.         0.         0.\n",
            " 0.         0.         0.         0.         0.         0.\n",
            " 0.         0.         0.         0.         0.         0.\n",
            " 0.         0.         0.         0.         0.         0.\n",
            " 0.         0.         0.         0.         0.         0.\n",
            " 0.         0.         0.         0.         0.         0.\n",
            " 0.         0.         0.         0.         0.         0.\n",
            " 0.         0.         0.         0.         0.         0.\n",
            " 0.         0.         0.         0.         0.         0.\n",
            " 0.         0.         0.         0.         0.         0.\n",
            " 0.         0.         0.         0.         0.         0.\n",
            " 0.         0.         0.         0.         0.         0.\n",
            " 0.         0.         0.         0.         0.         0.\n",
            " 0.         0.         0.         0.         0.         0.\n",
            " 0.         0.         0.         0.         0.         0.\n",
            " 0.         0.         0.         0.         0.         0.\n",
            " 0.         0.         0.         0.         0.         0.\n",
            " 0.         0.         0.         0.         0.         0.\n",
            " 0.         0.         0.         0.         0.         0.\n",
            " 0.         0.         0.         0.         0.         0.\n",
            " 0.         0.         0.         0.16470589 0.34509805 0.34901962\n",
            " 0.34509805 0.16862746 0.3647059  0.49803922 0.08627451 0.\n",
            " 0.         0.         0.         0.         0.         0.\n",
            " 0.         0.         0.         0.         0.         0.\n",
            " 0.         0.         0.         0.         0.         0.00784314\n",
            " 0.23529412 0.4745098  0.49411765 0.49803922 0.49411765 0.6313726\n",
            " 0.92156863 0.64705884 0.1764706  0.         0.         0.\n",
            " 0.         0.         0.         0.         0.         0.\n",
            " 0.         0.         0.         0.         0.         0.\n",
            " 0.         0.         0.01568628 0.2509804  0.49411765 0.49411765\n",
            " 0.49411765 0.49803922 0.5294118  0.83137256 0.99215686 0.9254902\n",
            " 0.2627451  0.00392157 0.         0.         0.         0.\n",
            " 0.         0.         0.         0.         0.         0.\n",
            " 0.         0.         0.         0.         0.         0.11764706\n",
            " 0.38431373 0.49411765 0.49411765 0.49411765 0.49411765 0.48235294\n",
            " 0.5803922  0.9411765  0.972549   0.7647059  0.50980395 0.23137255\n",
            " 0.         0.         0.         0.         0.         0.\n",
            " 0.         0.         0.         0.         0.         0.\n",
            " 0.         0.         0.10980392 0.45882353 0.49411765 0.49411765\n",
            " 0.49411765 0.49411765 0.49411765 0.28627452 0.40784314 0.58431375\n",
            " 0.7607843  0.5529412  0.49411765 0.49019608 0.15294118 0.\n",
            " 0.         0.         0.         0.         0.         0.\n",
            " 0.         0.         0.         0.         0.         0.10196079\n",
            " 0.46666667 0.49411765 0.49411765 0.49411765 0.49019608 0.49019608\n",
            " 0.5254902  0.2901961  0.49411765 0.44705883 0.20784314 0.4117647\n",
            " 0.49411765 0.49411765 0.43137255 0.07058824 0.         0.\n",
            " 0.         0.         0.         0.         0.         0.\n",
            " 0.         0.         0.07843138 0.4627451  0.49411765 0.49411765\n",
            " 0.49411765 0.48235294 0.16078432 0.14509805 0.49803922 0.5803922\n",
            " 0.49411765 0.14509805 0.         0.19215687 0.49411765 0.49411765\n",
            " 0.49411765 0.36862746 0.01176471 0.         0.         0.\n",
            " 0.         0.         0.         0.         0.         0.\n",
            " 0.2901961  0.49411765 0.49411765 0.49411765 0.44313726 0.14117648\n",
            " 0.         0.05098039 0.3529412  0.49411765 0.4745098  0.09019608\n",
            " 0.         0.02745098 0.34901962 0.49411765 0.49411765 0.49411765\n",
            " 0.22352941 0.         0.         0.         0.         0.\n",
            " 0.         0.         0.         0.15294118 0.47843137 0.49411765\n",
            " 0.49411765 0.44705883 0.08627451 0.         0.         0.13333334\n",
            " 0.49411765 0.49411765 0.23921569 0.         0.         0.\n",
            " 0.17254902 0.49411765 0.49411765 0.49411765 0.46666667 0.\n",
            " 0.         0.         0.         0.         0.         0.\n",
            " 0.         0.40392157 0.49803922 0.49803922 0.49803922 0.17254902\n",
            " 0.         0.         0.11764706 0.46666667 0.49411765 0.45490196\n",
            " 0.00784314 0.         0.         0.0627451  0.4509804  0.49803922\n",
            " 0.49803922 0.49803922 0.49803922 0.         0.         0.\n",
            " 0.         0.         0.         0.         0.         0.49803922\n",
            " 0.49411765 0.49411765 0.46666667 0.05098039 0.         0.\n",
            " 0.3254902  0.49411765 0.49411765 0.14117648 0.         0.\n",
            " 0.06666667 0.3019608  0.49411765 0.49411765 0.49411765 0.49411765\n",
            " 0.49411765 0.         0.         0.         0.         0.\n",
            " 0.         0.         0.         0.49803922 0.49411765 0.49411765\n",
            " 0.27058825 0.         0.         0.01568628 0.42352942 0.49411765\n",
            " 0.40392157 0.04313726 0.         0.16078432 0.44705883 0.49411765\n",
            " 0.49411765 0.49411765 0.49411765 0.49411765 0.23137255 0.\n",
            " 0.         0.         0.         0.         0.         0.\n",
            " 0.         0.49803922 0.49411765 0.49411765 0.04705882 0.\n",
            " 0.         0.18431373 0.49411765 0.5254902  0.2627451  0.25882354\n",
            " 0.4117647  0.49411765 0.49411765 0.49411765 0.49411765 0.49411765\n",
            " 0.47058824 0.31764707 0.00392157 0.         0.         0.\n",
            " 0.         0.         0.         0.         0.         0.4509804\n",
            " 0.49411765 0.49411765 0.40392157 0.18431373 0.10980392 0.5568628\n",
            " 0.81960785 0.83137256 0.49411765 0.49803922 0.49411765 0.49411765\n",
            " 0.49411765 0.49411765 0.49411765 0.43529412 0.06666667 0.\n",
            " 0.         0.         0.         0.         0.         0.\n",
            " 0.         0.         0.         0.28235295 0.49411765 0.49411765\n",
            " 0.49411765 0.49411765 0.6627451  0.9764706  0.99215686 0.63529414\n",
            " 0.49411765 0.49803922 0.49411765 0.49411765 0.49411765 0.49411765\n",
            " 0.43529412 0.07450981 0.         0.         0.         0.\n",
            " 0.         0.         0.         0.         0.         0.\n",
            " 0.         0.02352941 0.2509804  0.49411765 0.49411765 0.5019608\n",
            " 0.85490197 0.99215686 0.88235295 0.5019608  0.49411765 0.49803922\n",
            " 0.49411765 0.49411765 0.46666667 0.21176471 0.02745098 0.\n",
            " 0.         0.         0.         0.         0.         0.\n",
            " 0.         0.         0.         0.         0.         0.\n",
            " 0.         0.16078432 0.40784314 0.6        0.99215686 0.9843137\n",
            " 0.6862745  0.49411765 0.49411765 0.4117647  0.25882354 0.19215687\n",
            " 0.09019608 0.         0.         0.         0.         0.\n",
            " 0.         0.         0.         0.         0.         0.\n",
            " 0.         0.         0.         0.         0.         0.\n",
            " 0.01176471 0.4745098  0.62352943 0.41960785 0.12941177 0.12941177\n",
            " 0.12941177 0.         0.         0.         0.         0.\n",
            " 0.         0.         0.         0.         0.         0.\n",
            " 0.         0.         0.         0.         0.         0.\n",
            " 0.         0.         0.         0.         0.         0.45882353\n",
            " 0.4627451  0.12156863 0.         0.         0.         0.\n",
            " 0.         0.         0.         0.         0.         0.\n",
            " 0.         0.         0.         0.         0.         0.\n",
            " 0.         0.         0.         0.         0.         0.\n",
            " 0.         0.         0.         0.45882353 0.1882353  0.\n",
            " 0.         0.         0.         0.         0.         0.\n",
            " 0.         0.         0.         0.         0.         0.\n",
            " 0.         0.         0.         0.         0.         0.\n",
            " 0.         0.         0.         0.         0.         0.\n",
            " 0.         0.         0.         0.         0.         0.\n",
            " 0.         0.         0.         0.         0.         0.\n",
            " 0.         0.         0.         0.         0.         0.\n",
            " 0.         0.         0.         0.         0.         0.\n",
            " 0.         0.         0.         0.         0.         0.\n",
            " 0.         0.         0.         0.         0.         0.\n",
            " 0.         0.         0.         0.         0.         0.\n",
            " 0.         0.         0.         0.         0.         0.\n",
            " 0.         0.         0.         0.         0.         0.\n",
            " 0.         0.         0.         0.         0.         0.\n",
            " 0.         0.         0.         0.         0.         0.\n",
            " 0.         0.         0.         0.         0.         0.\n",
            " 0.         0.         0.         0.        ]\n"
          ]
        }
      ]
    },
    {
      "cell_type": "code",
      "source": [
        "x_val = new_train_images[:7000]\n",
        "partial_x_train = new_train_images[7000:]\n",
        "y_val = new_train_labels[:7000]\n",
        "partial_y_train = new_train_labels[7000:]"
      ],
      "metadata": {
        "id": "ytorQWuQj8d1"
      },
      "execution_count": null,
      "outputs": []
    },
    {
      "cell_type": "code",
      "source": [
        "history = model.fit(partial_x_train,\n",
        "                    partial_y_train,\n",
        "                    epochs=100,\n",
        "                    batch_size=512,\n",
        "                    validation_data=(x_val, y_val))"
      ],
      "metadata": {
        "colab": {
          "base_uri": "https://localhost:8080/"
        },
        "id": "6ynXSVsMUM0m",
        "outputId": "7ca00157-d7f9-490a-cda7-7d6d32c0ceac"
      },
      "execution_count": null,
      "outputs": [
        {
          "output_type": "stream",
          "name": "stdout",
          "text": [
            "Epoch 1/100\n",
            "44/44 [==============================] - 4s 54ms/step - loss: 0.7921 - accuracy: 0.7684 - val_loss: 0.3003 - val_accuracy: 0.9511\n",
            "Epoch 2/100\n",
            "44/44 [==============================] - 3s 66ms/step - loss: 0.3229 - accuracy: 0.9425 - val_loss: 0.2610 - val_accuracy: 0.9587\n",
            "Epoch 3/100\n",
            "44/44 [==============================] - 2s 45ms/step - loss: 0.2614 - accuracy: 0.9583 - val_loss: 0.2271 - val_accuracy: 0.9701\n",
            "Epoch 4/100\n",
            "44/44 [==============================] - 2s 46ms/step - loss: 0.2366 - accuracy: 0.9636 - val_loss: 0.2117 - val_accuracy: 0.9731\n",
            "Epoch 5/100\n",
            "44/44 [==============================] - 2s 40ms/step - loss: 0.2135 - accuracy: 0.9719 - val_loss: 0.2000 - val_accuracy: 0.9721\n",
            "Epoch 6/100\n",
            "44/44 [==============================] - 2s 41ms/step - loss: 0.1972 - accuracy: 0.9733 - val_loss: 0.1885 - val_accuracy: 0.9764\n",
            "Epoch 7/100\n",
            "44/44 [==============================] - 2s 44ms/step - loss: 0.1794 - accuracy: 0.9787 - val_loss: 0.1866 - val_accuracy: 0.9764\n",
            "Epoch 8/100\n",
            "44/44 [==============================] - 3s 65ms/step - loss: 0.1694 - accuracy: 0.9807 - val_loss: 0.1697 - val_accuracy: 0.9799\n",
            "Epoch 9/100\n",
            "44/44 [==============================] - 2s 46ms/step - loss: 0.1667 - accuracy: 0.9793 - val_loss: 0.1679 - val_accuracy: 0.9799\n",
            "Epoch 10/100\n",
            "44/44 [==============================] - 2s 40ms/step - loss: 0.1548 - accuracy: 0.9838 - val_loss: 0.1603 - val_accuracy: 0.9810\n",
            "Epoch 11/100\n",
            "44/44 [==============================] - 2s 42ms/step - loss: 0.1447 - accuracy: 0.9846 - val_loss: 0.1583 - val_accuracy: 0.9809\n",
            "Epoch 12/100\n",
            "44/44 [==============================] - 2s 41ms/step - loss: 0.1366 - accuracy: 0.9870 - val_loss: 0.1612 - val_accuracy: 0.9806\n",
            "Epoch 13/100\n",
            "44/44 [==============================] - 2s 40ms/step - loss: 0.1420 - accuracy: 0.9842 - val_loss: 0.1677 - val_accuracy: 0.9763\n",
            "Epoch 14/100\n",
            "44/44 [==============================] - 2s 44ms/step - loss: 0.1398 - accuracy: 0.9840 - val_loss: 0.1521 - val_accuracy: 0.9813\n",
            "Epoch 15/100\n",
            "44/44 [==============================] - 3s 70ms/step - loss: 0.1326 - accuracy: 0.9856 - val_loss: 0.1524 - val_accuracy: 0.9803\n",
            "Epoch 16/100\n",
            "44/44 [==============================] - 2s 42ms/step - loss: 0.1200 - accuracy: 0.9898 - val_loss: 0.1444 - val_accuracy: 0.9830\n",
            "Epoch 17/100\n",
            "44/44 [==============================] - 2s 41ms/step - loss: 0.1155 - accuracy: 0.9898 - val_loss: 0.1439 - val_accuracy: 0.9826\n",
            "Epoch 18/100\n",
            "44/44 [==============================] - 2s 41ms/step - loss: 0.1144 - accuracy: 0.9907 - val_loss: 0.1427 - val_accuracy: 0.9826\n",
            "Epoch 19/100\n",
            "44/44 [==============================] - 2s 41ms/step - loss: 0.1120 - accuracy: 0.9903 - val_loss: 0.1339 - val_accuracy: 0.9849\n",
            "Epoch 20/100\n",
            "44/44 [==============================] - 2s 41ms/step - loss: 0.1102 - accuracy: 0.9900 - val_loss: 0.1356 - val_accuracy: 0.9837\n",
            "Epoch 21/100\n",
            "44/44 [==============================] - 4s 91ms/step - loss: 0.1075 - accuracy: 0.9900 - val_loss: 0.1394 - val_accuracy: 0.9836\n",
            "Epoch 22/100\n",
            "44/44 [==============================] - 4s 82ms/step - loss: 0.1030 - accuracy: 0.9912 - val_loss: 0.1417 - val_accuracy: 0.9806\n",
            "Epoch 23/100\n",
            "44/44 [==============================] - 2s 40ms/step - loss: 0.1040 - accuracy: 0.9907 - val_loss: 0.1337 - val_accuracy: 0.9836\n",
            "Epoch 24/100\n",
            "44/44 [==============================] - 2s 41ms/step - loss: 0.1116 - accuracy: 0.9875 - val_loss: 0.1307 - val_accuracy: 0.9843\n",
            "Epoch 25/100\n",
            "44/44 [==============================] - 2s 47ms/step - loss: 0.0967 - accuracy: 0.9920 - val_loss: 0.1345 - val_accuracy: 0.9821\n",
            "Epoch 26/100\n",
            "44/44 [==============================] - 2s 49ms/step - loss: 0.0927 - accuracy: 0.9925 - val_loss: 0.1326 - val_accuracy: 0.9821\n",
            "Epoch 27/100\n",
            "44/44 [==============================] - 3s 64ms/step - loss: 0.0975 - accuracy: 0.9903 - val_loss: 0.1275 - val_accuracy: 0.9824\n",
            "Epoch 28/100\n",
            "44/44 [==============================] - 2s 44ms/step - loss: 0.0874 - accuracy: 0.9942 - val_loss: 0.1218 - val_accuracy: 0.9843\n",
            "Epoch 29/100\n",
            "44/44 [==============================] - 2s 41ms/step - loss: 0.0877 - accuracy: 0.9933 - val_loss: 0.1233 - val_accuracy: 0.9827\n",
            "Epoch 30/100\n",
            "44/44 [==============================] - 2s 44ms/step - loss: 0.0870 - accuracy: 0.9924 - val_loss: 0.1213 - val_accuracy: 0.9840\n",
            "Epoch 31/100\n",
            "44/44 [==============================] - 2s 41ms/step - loss: 0.0856 - accuracy: 0.9935 - val_loss: 0.1221 - val_accuracy: 0.9840\n",
            "Epoch 32/100\n",
            "44/44 [==============================] - 2s 44ms/step - loss: 0.0942 - accuracy: 0.9897 - val_loss: 0.1251 - val_accuracy: 0.9817\n",
            "Epoch 33/100\n",
            "44/44 [==============================] - 3s 72ms/step - loss: 0.0872 - accuracy: 0.9925 - val_loss: 0.1258 - val_accuracy: 0.9824\n",
            "Epoch 34/100\n",
            "44/44 [==============================] - 2s 48ms/step - loss: 0.0885 - accuracy: 0.9915 - val_loss: 0.1187 - val_accuracy: 0.9849\n",
            "Epoch 35/100\n",
            "44/44 [==============================] - 2s 42ms/step - loss: 0.0804 - accuracy: 0.9937 - val_loss: 0.1201 - val_accuracy: 0.9837\n",
            "Epoch 36/100\n",
            "44/44 [==============================] - 2s 42ms/step - loss: 0.0833 - accuracy: 0.9924 - val_loss: 0.1142 - val_accuracy: 0.9854\n",
            "Epoch 37/100\n",
            "44/44 [==============================] - 2s 41ms/step - loss: 0.0792 - accuracy: 0.9931 - val_loss: 0.1257 - val_accuracy: 0.9806\n",
            "Epoch 38/100\n",
            "44/44 [==============================] - 2s 43ms/step - loss: 0.0798 - accuracy: 0.9939 - val_loss: 0.1113 - val_accuracy: 0.9850\n",
            "Epoch 39/100\n",
            "44/44 [==============================] - 3s 61ms/step - loss: 0.0747 - accuracy: 0.9947 - val_loss: 0.1156 - val_accuracy: 0.9839\n",
            "Epoch 40/100\n",
            "44/44 [==============================] - 2s 56ms/step - loss: 0.0789 - accuracy: 0.9923 - val_loss: 0.1229 - val_accuracy: 0.9823\n",
            "Epoch 41/100\n",
            "44/44 [==============================] - 2s 41ms/step - loss: 0.0759 - accuracy: 0.9933 - val_loss: 0.1135 - val_accuracy: 0.9840\n",
            "Epoch 42/100\n",
            "44/44 [==============================] - 2s 40ms/step - loss: 0.0734 - accuracy: 0.9944 - val_loss: 0.1084 - val_accuracy: 0.9850\n",
            "Epoch 43/100\n",
            "44/44 [==============================] - 2s 45ms/step - loss: 0.0738 - accuracy: 0.9934 - val_loss: 0.1303 - val_accuracy: 0.9786\n",
            "Epoch 44/100\n",
            "44/44 [==============================] - 2s 42ms/step - loss: 0.0716 - accuracy: 0.9939 - val_loss: 0.1105 - val_accuracy: 0.9839\n",
            "Epoch 45/100\n",
            "44/44 [==============================] - 2s 48ms/step - loss: 0.0692 - accuracy: 0.9948 - val_loss: 0.1085 - val_accuracy: 0.9844\n",
            "Epoch 46/100\n",
            "44/44 [==============================] - 3s 65ms/step - loss: 0.0695 - accuracy: 0.9946 - val_loss: 0.1073 - val_accuracy: 0.9847\n",
            "Epoch 47/100\n",
            "44/44 [==============================] - 2s 42ms/step - loss: 0.0701 - accuracy: 0.9937 - val_loss: 0.1173 - val_accuracy: 0.9821\n",
            "Epoch 48/100\n",
            "44/44 [==============================] - 2s 44ms/step - loss: 0.0729 - accuracy: 0.9935 - val_loss: 0.1148 - val_accuracy: 0.9824\n",
            "Epoch 49/100\n",
            "44/44 [==============================] - 2s 42ms/step - loss: 0.0716 - accuracy: 0.9937 - val_loss: 0.1054 - val_accuracy: 0.9834\n",
            "Epoch 50/100\n",
            "44/44 [==============================] - 2s 42ms/step - loss: 0.0692 - accuracy: 0.9938 - val_loss: 0.1079 - val_accuracy: 0.9841\n",
            "Epoch 51/100\n",
            "44/44 [==============================] - 2s 42ms/step - loss: 0.0716 - accuracy: 0.9936 - val_loss: 0.1106 - val_accuracy: 0.9829\n",
            "Epoch 52/100\n",
            "44/44 [==============================] - 3s 65ms/step - loss: 0.0713 - accuracy: 0.9931 - val_loss: 0.1071 - val_accuracy: 0.9841\n",
            "Epoch 53/100\n",
            "44/44 [==============================] - 2s 51ms/step - loss: 0.0666 - accuracy: 0.9947 - val_loss: 0.1108 - val_accuracy: 0.9831\n",
            "Epoch 54/100\n",
            "44/44 [==============================] - 2s 42ms/step - loss: 0.0629 - accuracy: 0.9958 - val_loss: 0.1038 - val_accuracy: 0.9841\n",
            "Epoch 55/100\n",
            "44/44 [==============================] - 2s 43ms/step - loss: 0.0629 - accuracy: 0.9957 - val_loss: 0.1161 - val_accuracy: 0.9817\n",
            "Epoch 56/100\n",
            "44/44 [==============================] - 2s 45ms/step - loss: 0.0653 - accuracy: 0.9947 - val_loss: 0.1048 - val_accuracy: 0.9839\n",
            "Epoch 57/100\n",
            "44/44 [==============================] - 2s 41ms/step - loss: 0.0710 - accuracy: 0.9929 - val_loss: 0.1069 - val_accuracy: 0.9843\n",
            "Epoch 58/100\n",
            "44/44 [==============================] - 2s 54ms/step - loss: 0.0741 - accuracy: 0.9914 - val_loss: 0.1021 - val_accuracy: 0.9843\n",
            "Epoch 59/100\n",
            "44/44 [==============================] - 3s 62ms/step - loss: 0.0681 - accuracy: 0.9939 - val_loss: 0.1070 - val_accuracy: 0.9834\n",
            "Epoch 60/100\n",
            "44/44 [==============================] - 2s 45ms/step - loss: 0.0659 - accuracy: 0.9944 - val_loss: 0.1064 - val_accuracy: 0.9821\n",
            "Epoch 61/100\n",
            "44/44 [==============================] - 2s 44ms/step - loss: 0.0684 - accuracy: 0.9933 - val_loss: 0.1027 - val_accuracy: 0.9846\n",
            "Epoch 62/100\n",
            "44/44 [==============================] - 2s 44ms/step - loss: 0.0646 - accuracy: 0.9947 - val_loss: 0.1006 - val_accuracy: 0.9856\n",
            "Epoch 63/100\n",
            "44/44 [==============================] - 2s 45ms/step - loss: 0.0635 - accuracy: 0.9942 - val_loss: 0.1123 - val_accuracy: 0.9821\n",
            "Epoch 64/100\n",
            "44/44 [==============================] - 2s 47ms/step - loss: 0.0654 - accuracy: 0.9943 - val_loss: 0.1115 - val_accuracy: 0.9800\n",
            "Epoch 65/100\n",
            "44/44 [==============================] - 3s 66ms/step - loss: 0.0689 - accuracy: 0.9923 - val_loss: 0.1015 - val_accuracy: 0.9839\n",
            "Epoch 66/100\n",
            "44/44 [==============================] - 2s 41ms/step - loss: 0.0652 - accuracy: 0.9942 - val_loss: 0.1049 - val_accuracy: 0.9830\n",
            "Epoch 67/100\n",
            "44/44 [==============================] - 2s 41ms/step - loss: 0.0625 - accuracy: 0.9949 - val_loss: 0.1197 - val_accuracy: 0.9806\n",
            "Epoch 68/100\n",
            "44/44 [==============================] - 2s 41ms/step - loss: 0.0661 - accuracy: 0.9937 - val_loss: 0.0978 - val_accuracy: 0.9853\n",
            "Epoch 69/100\n",
            "44/44 [==============================] - 2s 44ms/step - loss: 0.0613 - accuracy: 0.9943 - val_loss: 0.1024 - val_accuracy: 0.9840\n",
            "Epoch 70/100\n",
            "44/44 [==============================] - 2s 41ms/step - loss: 0.0587 - accuracy: 0.9959 - val_loss: 0.1068 - val_accuracy: 0.9837\n",
            "Epoch 71/100\n",
            "44/44 [==============================] - 3s 62ms/step - loss: 0.0626 - accuracy: 0.9938 - val_loss: 0.1058 - val_accuracy: 0.9834\n",
            "Epoch 72/100\n",
            "44/44 [==============================] - 2s 54ms/step - loss: 0.0606 - accuracy: 0.9954 - val_loss: 0.1020 - val_accuracy: 0.9846\n",
            "Epoch 73/100\n",
            "44/44 [==============================] - 2s 41ms/step - loss: 0.0628 - accuracy: 0.9942 - val_loss: 0.1034 - val_accuracy: 0.9831\n",
            "Epoch 74/100\n",
            "44/44 [==============================] - 2s 41ms/step - loss: 0.0595 - accuracy: 0.9947 - val_loss: 0.1013 - val_accuracy: 0.9843\n",
            "Epoch 75/100\n",
            "44/44 [==============================] - 2s 45ms/step - loss: 0.0616 - accuracy: 0.9943 - val_loss: 0.1048 - val_accuracy: 0.9823\n",
            "Epoch 76/100\n",
            "44/44 [==============================] - 2s 42ms/step - loss: 0.0638 - accuracy: 0.9936 - val_loss: 0.0991 - val_accuracy: 0.9843\n",
            "Epoch 77/100\n",
            "44/44 [==============================] - 2s 50ms/step - loss: 0.0662 - accuracy: 0.9925 - val_loss: 0.0964 - val_accuracy: 0.9843\n",
            "Epoch 78/100\n",
            "44/44 [==============================] - 3s 66ms/step - loss: 0.0586 - accuracy: 0.9952 - val_loss: 0.0953 - val_accuracy: 0.9854\n",
            "Epoch 79/100\n",
            "44/44 [==============================] - 2s 45ms/step - loss: 0.0586 - accuracy: 0.9949 - val_loss: 0.0981 - val_accuracy: 0.9849\n",
            "Epoch 80/100\n",
            "44/44 [==============================] - 2s 41ms/step - loss: 0.0605 - accuracy: 0.9948 - val_loss: 0.1007 - val_accuracy: 0.9840\n",
            "Epoch 81/100\n",
            "44/44 [==============================] - 2s 45ms/step - loss: 0.0572 - accuracy: 0.9951 - val_loss: 0.0961 - val_accuracy: 0.9840\n",
            "Epoch 82/100\n",
            "44/44 [==============================] - 2s 42ms/step - loss: 0.0560 - accuracy: 0.9956 - val_loss: 0.0981 - val_accuracy: 0.9851\n",
            "Epoch 83/100\n",
            "44/44 [==============================] - 2s 42ms/step - loss: 0.0606 - accuracy: 0.9938 - val_loss: 0.0990 - val_accuracy: 0.9851\n",
            "Epoch 84/100\n",
            "44/44 [==============================] - 3s 70ms/step - loss: 0.0592 - accuracy: 0.9942 - val_loss: 0.1025 - val_accuracy: 0.9837\n",
            "Epoch 85/100\n",
            "44/44 [==============================] - 2s 43ms/step - loss: 0.0614 - accuracy: 0.9937 - val_loss: 0.0989 - val_accuracy: 0.9843\n",
            "Epoch 86/100\n",
            "44/44 [==============================] - 2s 45ms/step - loss: 0.0716 - accuracy: 0.9906 - val_loss: 0.1066 - val_accuracy: 0.9833\n",
            "Epoch 87/100\n",
            "44/44 [==============================] - 2s 44ms/step - loss: 0.0684 - accuracy: 0.9920 - val_loss: 0.1005 - val_accuracy: 0.9836\n",
            "Epoch 88/100\n",
            "44/44 [==============================] - 2s 45ms/step - loss: 0.0689 - accuracy: 0.9919 - val_loss: 0.1016 - val_accuracy: 0.9847\n",
            "Epoch 89/100\n",
            "44/44 [==============================] - 2s 41ms/step - loss: 0.0669 - accuracy: 0.9929 - val_loss: 0.1058 - val_accuracy: 0.9821\n",
            "Epoch 90/100\n",
            "44/44 [==============================] - 3s 61ms/step - loss: 0.0671 - accuracy: 0.9929 - val_loss: 0.1048 - val_accuracy: 0.9824\n",
            "Epoch 91/100\n",
            "44/44 [==============================] - 2s 52ms/step - loss: 0.0781 - accuracy: 0.9894 - val_loss: 0.1104 - val_accuracy: 0.9831\n",
            "Epoch 92/100\n",
            "44/44 [==============================] - 2s 41ms/step - loss: 0.0687 - accuracy: 0.9927 - val_loss: 0.1002 - val_accuracy: 0.9847\n",
            "Epoch 93/100\n",
            "44/44 [==============================] - 2s 42ms/step - loss: 0.0661 - accuracy: 0.9934 - val_loss: 0.0990 - val_accuracy: 0.9849\n",
            "Epoch 94/100\n",
            "44/44 [==============================] - 2s 41ms/step - loss: 0.0652 - accuracy: 0.9932 - val_loss: 0.1020 - val_accuracy: 0.9853\n",
            "Epoch 95/100\n",
            "44/44 [==============================] - 2s 41ms/step - loss: 0.0610 - accuracy: 0.9947 - val_loss: 0.1017 - val_accuracy: 0.9854\n",
            "Epoch 96/100\n",
            "44/44 [==============================] - 2s 45ms/step - loss: 0.0629 - accuracy: 0.9938 - val_loss: 0.0992 - val_accuracy: 0.9851\n",
            "Epoch 97/100\n",
            "44/44 [==============================] - 3s 69ms/step - loss: 0.0592 - accuracy: 0.9950 - val_loss: 0.1005 - val_accuracy: 0.9853\n",
            "Epoch 98/100\n",
            "44/44 [==============================] - 2s 42ms/step - loss: 0.0645 - accuracy: 0.9927 - val_loss: 0.1057 - val_accuracy: 0.9833\n",
            "Epoch 99/100\n",
            "44/44 [==============================] - 2s 41ms/step - loss: 0.0640 - accuracy: 0.9936 - val_loss: 0.1119 - val_accuracy: 0.9827\n",
            "Epoch 100/100\n",
            "44/44 [==============================] - 2s 42ms/step - loss: 0.0686 - accuracy: 0.9921 - val_loss: 0.1011 - val_accuracy: 0.9851\n"
          ]
        }
      ]
    },
    {
      "cell_type": "code",
      "source": [
        "history_dict = history.history\n",
        "history_dict.keys()"
      ],
      "metadata": {
        "id": "3KNxuIP_kkuJ",
        "colab": {
          "base_uri": "https://localhost:8080/"
        },
        "outputId": "223485de-a1dc-4e58-9715-a2c9a1604839"
      },
      "execution_count": null,
      "outputs": [
        {
          "output_type": "execute_result",
          "data": {
            "text/plain": [
              "dict_keys(['loss', 'accuracy', 'val_loss', 'val_accuracy'])"
            ]
          },
          "metadata": {},
          "execution_count": 253
        }
      ]
    },
    {
      "cell_type": "code",
      "source": [
        "import matplotlib.pyplot as plt\n",
        "history_dict = history.history\n",
        "loss_values = history_dict[\"loss\"]\n",
        "val_loss_values = history_dict[\"val_loss\"]\n",
        "epochs = range(1, len(loss_values) + 1)\n",
        "plt.plot(epochs, loss_values, \"bo\", label=\"Training loss\")\n",
        "plt.plot(epochs, val_loss_values, \"b\", label=\"Validation loss\")\n",
        "plt.title(\"Training and validation loss\")\n",
        "plt.xlabel(\"Epochs\")\n",
        "plt.ylabel(\"Loss\")\n",
        "plt.legend()\n",
        "plt.show()"
      ],
      "metadata": {
        "id": "YYe7ljbFkprQ",
        "colab": {
          "base_uri": "https://localhost:8080/",
          "height": 295
        },
        "outputId": "0153f9d6-205e-4a2e-bf95-fcd11fe27279"
      },
      "execution_count": null,
      "outputs": [
        {
          "output_type": "display_data",
          "data": {
            "text/plain": [
              "<Figure size 432x288 with 1 Axes>"
            ],
            "image/png": "[encoded data removed]"
          },
          "metadata": {
            "needs_background": "light"
          }
        }
      ]
    },
    {
      "cell_type": "code",
      "source": [
        "plt.clf()\n",
        "acc = history_dict[\"accuracy\"]\n",
        "val_acc = history_dict[\"val_accuracy\"]\n",
        "plt.plot(epochs, acc, \"bo\", label=\"Training acc\")\n",
        "plt.plot(epochs, val_acc, \"b\", label=\"Validation acc\")\n",
        "plt.title(\"Training and validation accuracy\")\n",
        "plt.xlabel(\"Epochs\")\n",
        "plt.ylabel(\"Accuracy\")\n",
        "plt.legend()\n",
        "plt.show()"
      ],
      "metadata": {
        "id": "HCTAsyedkwkp",
        "colab": {
          "base_uri": "https://localhost:8080/",
          "height": 295
        },
        "outputId": "b7d88d0b-572b-45db-9b18-d5f87045e296"
      },
      "execution_count": null,
      "outputs": [
        {
          "output_type": "display_data",
          "data": {
            "text/plain": [
              "<Figure size 432x288 with 1 Axes>"
            ],
            "image/png": "[encoded data removed]"
          },
          "metadata": {
            "needs_background": "light"
          }
        }
      ]
    },
    {
      "cell_type": "code",
      "source": [
        "test_digits = new_test_images[1000:1050]\n",
        "predictions = model.predict(test_digits)\n",
        "predictions[0:50]\n"
      ],
      "metadata": {
        "id": "YC5lWNpKUYY4",
        "colab": {
          "base_uri": "https://localhost:8080/"
        },
        "outputId": "0e7c38fd-155a-4b28-cfe4-c3701645059e"
      },
      "execution_count": null,
      "outputs": [
        {
          "output_type": "stream",
          "name": "stdout",
          "text": [
            "2/2 [==============================] - 0s 10ms/step\n"
          ]
        },
        {
          "output_type": "execute_result",
          "data": {
            "text/plain": [
              "array([[8.15050560e-04, 9.87734735e-01, 7.67200813e-03, 4.21395467e-04,\n",
              "        3.35673196e-03],\n",
              "       [4.08575758e-02, 9.33200479e-01, 1.32134445e-02, 3.39510525e-03,\n",
              "        9.33329016e-03],\n",
              "       [2.98285755e-07, 9.99999344e-01, 8.24133508e-08, 3.94364612e-08,\n",
              "        6.71542182e-08],\n",
              "       [2.95478708e-09, 9.99999940e-01, 3.30073052e-10, 1.45783954e-10,\n",
              "        9.99228922e-10],\n",
              "       [1.64122674e-10, 9.99999940e-01, 8.70089970e-13, 5.19695127e-13,\n",
              "        3.81658073e-12],\n",
              "       [1.02218990e-04, 9.99338806e-01, 2.97977058e-05, 4.56418857e-05,\n",
              "        4.83495707e-04],\n",
              "       [1.10386269e-08, 9.99999940e-01, 1.75488499e-10, 5.73071417e-11,\n",
              "        1.98827205e-10],\n",
              "       [7.28600125e-10, 9.99999940e-01, 1.02459007e-10, 1.32693823e-09,\n",
              "        9.46547285e-10],\n",
              "       [4.67244536e-05, 9.99781609e-01, 7.96723689e-05, 2.47173648e-05,\n",
              "        6.73393806e-05],\n",
              "       [1.05543885e-08, 9.99999940e-01, 9.34903752e-11, 9.14432002e-11,\n",
              "        1.28579813e-10],\n",
              "       [1.09234989e-07, 9.99999821e-01, 4.80554219e-09, 1.62772622e-08,\n",
              "        2.99750909e-08],\n",
              "       [8.56810090e-08, 9.99999821e-01, 3.80368910e-08, 1.19385151e-08,\n",
              "        5.50269448e-08],\n",
              "       [2.93559935e-07, 9.99999464e-01, 4.75480455e-08, 1.28159300e-07,\n",
              "        7.89894941e-08],\n",
              "       [1.95040093e-06, 9.99997675e-01, 2.94250437e-08, 9.59953113e-08,\n",
              "        2.05783152e-07],\n",
              "       [1.81133217e-07, 9.99999464e-01, 3.00652658e-08, 3.32854384e-08,\n",
              "        2.75910310e-07],\n",
              "       [3.75138995e-07, 9.99997914e-01, 3.07175100e-07, 9.83731184e-07,\n",
              "        3.39851056e-07],\n",
              "       [2.75494211e-04, 9.99715209e-01, 7.25687960e-06, 8.13896520e-07,\n",
              "        1.22917686e-06],\n",
              "       [1.97944511e-03, 9.58915353e-01, 3.38180512e-02, 8.84183042e-04,\n",
              "        4.40299325e-03],\n",
              "       [1.41764497e-06, 9.99998152e-01, 1.61915040e-07, 4.55853773e-08,\n",
              "        2.32259495e-07],\n",
              "       [7.08186126e-04, 4.40132692e-02, 2.75486018e-05, 1.42244797e-04,\n",
              "        9.55108583e-01],\n",
              "       [6.88811610e-07, 9.99998271e-01, 1.36896489e-07, 1.69277399e-07,\n",
              "        6.68540451e-07],\n",
              "       [2.46743895e-07, 9.99999464e-01, 6.03857089e-08, 7.18842319e-09,\n",
              "        6.02123862e-08],\n",
              "       [6.59837946e-03, 7.57296562e-01, 2.64285901e-03, 5.51604200e-03,\n",
              "        2.27946177e-01],\n",
              "       [4.45362219e-10, 9.99999940e-01, 1.76540883e-11, 5.77065028e-11,\n",
              "        1.98203592e-10],\n",
              "       [4.17679075e-07, 9.99999464e-01, 7.28013916e-09, 6.89655044e-09,\n",
              "        1.96133456e-08],\n",
              "       [2.90015646e-06, 9.99995053e-01, 7.04264323e-07, 2.42760876e-07,\n",
              "        1.12670421e-06],\n",
              "       [3.50469168e-06, 9.99987662e-01, 4.93274285e-07, 3.68443443e-06,\n",
              "        4.67919017e-06],\n",
              "       [1.06414244e-09, 9.99999940e-01, 1.81363501e-11, 4.11849305e-11,\n",
              "        1.90299582e-10],\n",
              "       [1.23155916e-10, 9.99999940e-01, 2.75166227e-11, 1.87334393e-12,\n",
              "        2.67311884e-11],\n",
              "       [1.95060111e-05, 9.99634504e-01, 3.34945624e-04, 5.00347051e-06,\n",
              "        5.93552704e-06],\n",
              "       [3.92607916e-07, 9.99999583e-01, 6.74475142e-09, 2.79607484e-08,\n",
              "        5.08551103e-08],\n",
              "       [4.59078420e-09, 9.99999940e-01, 4.09345002e-10, 6.58358745e-09,\n",
              "        4.28391589e-09],\n",
              "       [4.62077660e-05, 9.99919951e-01, 4.64020468e-06, 6.47570914e-06,\n",
              "        2.27048495e-05],\n",
              "       [2.39547802e-07, 9.99999702e-01, 1.47467647e-08, 1.04167714e-08,\n",
              "        5.77281547e-08],\n",
              "       [8.63487060e-07, 9.99997199e-01, 4.89435301e-08, 9.34266723e-07,\n",
              "        9.93316121e-07],\n",
              "       [5.77521496e-06, 9.99987900e-01, 2.81976384e-07, 1.01109231e-06,\n",
              "        5.09854863e-06],\n",
              "       [7.41171164e-07, 9.99997914e-01, 4.14764330e-08, 4.67459699e-07,\n",
              "        8.29668693e-07],\n",
              "       [2.34629078e-06, 9.99989688e-01, 5.75508557e-06, 5.28955809e-07,\n",
              "        1.61614923e-06],\n",
              "       [9.55863028e-11, 9.99999940e-01, 1.57628988e-12, 1.34395680e-11,\n",
              "        2.54371663e-11],\n",
              "       [1.17953159e-05, 9.99975979e-01, 7.24898337e-06, 5.84898885e-07,\n",
              "        4.23334222e-06],\n",
              "       [2.27001528e-05, 9.99934375e-01, 6.93343009e-06, 2.09189329e-06,\n",
              "        3.38734862e-05],\n",
              "       [1.48368017e-07, 9.99999821e-01, 1.78652038e-09, 9.31613364e-09,\n",
              "        2.48477114e-08],\n",
              "       [3.23273355e-08, 9.99999940e-01, 4.44109333e-10, 4.34255354e-10,\n",
              "        2.24049979e-09],\n",
              "       [1.13270005e-06, 9.99996245e-01, 8.18118849e-07, 3.62416444e-07,\n",
              "        1.33600167e-06],\n",
              "       [2.59038870e-06, 9.99997318e-01, 6.08215611e-09, 1.48922907e-09,\n",
              "        9.83558834e-09],\n",
              "       [4.15222393e-03, 7.29295254e-01, 2.32406100e-03, 5.35950763e-03,\n",
              "        2.58868933e-01],\n",
              "       [2.60036526e-08, 9.99999940e-01, 1.20612964e-10, 1.35361566e-09,\n",
              "        2.13816076e-09],\n",
              "       [5.69303575e-06, 9.99989808e-01, 8.52247183e-07, 9.48769582e-07,\n",
              "        2.57265106e-06],\n",
              "       [6.14830105e-06, 9.99962330e-01, 1.98753605e-06, 1.33140502e-05,\n",
              "        1.60774471e-05],\n",
              "       [2.35130221e-01, 7.41212428e-01, 5.80721907e-03, 2.20530597e-03,\n",
              "        1.56448390e-02]], dtype=float32)"
            ]
          },
          "metadata": {},
          "execution_count": 256
        }
      ]
    },
    {
      "cell_type": "code",
      "source": [
        "test_loss, test_acc = model.evaluate(new_test_images, new_test_labels)\n",
        "print(f\"test_acc: {test_acc}\")"
      ],
      "metadata": {
        "id": "5GU9Uxx_Ubnv",
        "colab": {
          "base_uri": "https://localhost:8080/"
        },
        "outputId": "7954cec7-3e25-4798-9685-9aa8940a58df"
      },
      "execution_count": null,
      "outputs": [
        {
          "output_type": "stream",
          "name": "stdout",
          "text": [
            "151/151 [==============================] - 1s 6ms/step - loss: 0.0943 - accuracy: 0.9861\n",
            "test_acc: 0.9860822558403015\n"
          ]
        }
      ]
    },
    {
      "cell_type": "markdown",
      "source": [
        "**Did you observe underfitting?**"
      ],
      "metadata": {
        "id": "fNOdB1fhjaOy"
      }
    },
    {
      "cell_type": "markdown",
      "source": [
        "No, i didn't observe underfitting. Even when I started training the neural network with just 2 (512 neurons and 5 neurons) dense layers, the model was very accurate in predicting results, and resulted around 96-97 percent accuracy on test data."
      ],
      "metadata": {
        "id": "R2udTbn6oOoB"
      }
    },
    {
      "cell_type": "markdown",
      "source": [
        "**Did you observe overfitting?**"
      ],
      "metadata": {
        "id": "XzxRGeQowDQL"
      }
    },
    {
      "cell_type": "markdown",
      "source": [
        "Yes, i did observe overfitting, on my current model when I trained it for 50 epochs. The model started overfitting when number of epochs were 15. As a result the training accuracy went up till 100% but validation accuracy reduced."
      ],
      "metadata": {
        "id": "2I5PvfrjwEdt"
      }
    },
    {
      "cell_type": "markdown",
      "source": [
        " **Did you try the reguliazation techniques?**"
      ],
      "metadata": {
        "id": "mYZZ9gVMwY58"
      }
    },
    {
      "cell_type": "markdown",
      "source": [
        "Yes, to fix overfitting of the model, I tried l1 and l2 weight regularizers and also tried adding dropout laters to my model.\n",
        "Finally, after many iterations I found that using a combination of l2 weight regularizer and dropout layers was the most effective in reducing overfitting and was also successful in improving my test accuracy."
      ],
      "metadata": {
        "id": "DSKROaZk11kj"
      }
    },
    {
      "cell_type": "markdown",
      "source": [
        "**Did they help?**"
      ],
      "metadata": {
        "id": "mMVXDYcR2bvV"
      }
    },
    {
      "cell_type": "markdown",
      "source": [
        "Yes, by using a combination of l2 weight regularizer and Dropout layers, I was able to reduce overfitting of the model and was also able to get a final test accuracy of 98.6%."
      ],
      "metadata": {
        "id": "bXeTwA_o2f0g"
      }
    }
  ]
}